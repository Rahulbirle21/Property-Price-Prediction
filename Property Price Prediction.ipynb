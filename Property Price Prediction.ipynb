{
 "cells": [
  {
   "cell_type": "markdown",
   "id": "3c470754",
   "metadata": {},
   "source": [
    "# Capstone Project 1 - Property Price Prediction\n",
    "\n",
    "\n"
   ]
  },
  {
   "cell_type": "markdown",
   "id": "07f1d646",
   "metadata": {},
   "source": [
    "# Submitted by - RAHUL BIRLE"
   ]
  },
  {
   "cell_type": "markdown",
   "id": "bf27ee49",
   "metadata": {},
   "source": [
    "#  TASK 1 -- DATA EXTRACTION"
   ]
  },
  {
   "cell_type": "code",
   "execution_count": null,
   "id": "8582cf68",
   "metadata": {},
   "outputs": [],
   "source": []
  },
  {
   "cell_type": "code",
   "execution_count": 1,
   "id": "c2da1b4a",
   "metadata": {},
   "outputs": [],
   "source": [
    "# Importing all the necessary libraries and modules for data extraction\n",
    "import pandas as pd\n",
    "import numpy as np\n",
    "import seaborn as sns\n",
    "import matplotlib.pyplot as plt"
   ]
  },
  {
   "cell_type": "code",
   "execution_count": 2,
   "id": "0ee6e3ef",
   "metadata": {},
   "outputs": [],
   "source": [
    "df = pd.read_csv(r\"C:\\Users\\birle\\Downloads\\Property_data.csv\")"
   ]
  },
  {
   "cell_type": "code",
   "execution_count": 3,
   "id": "e64db18b",
   "metadata": {},
   "outputs": [
    {
     "data": {
      "text/html": [
       "<div>\n",
       "<style scoped>\n",
       "    .dataframe tbody tr th:only-of-type {\n",
       "        vertical-align: middle;\n",
       "    }\n",
       "\n",
       "    .dataframe tbody tr th {\n",
       "        vertical-align: top;\n",
       "    }\n",
       "\n",
       "    .dataframe thead th {\n",
       "        text-align: right;\n",
       "    }\n",
       "</style>\n",
       "<table border=\"1\" class=\"dataframe\">\n",
       "  <thead>\n",
       "    <tr style=\"text-align: right;\">\n",
       "      <th></th>\n",
       "      <th>PropertyID</th>\n",
       "      <th>PropertyClass</th>\n",
       "      <th>PropertyZone</th>\n",
       "      <th>PropertyFrontage</th>\n",
       "      <th>PropertySize</th>\n",
       "      <th>Street</th>\n",
       "      <th>Alley</th>\n",
       "      <th>PropertyShape</th>\n",
       "      <th>Elevation</th>\n",
       "      <th>Amenities</th>\n",
       "      <th>...</th>\n",
       "      <th>PoolArea</th>\n",
       "      <th>PoolQC</th>\n",
       "      <th>BoundaryFeatures</th>\n",
       "      <th>AddFeatures</th>\n",
       "      <th>AddVal</th>\n",
       "      <th>SaleMon</th>\n",
       "      <th>SaleYr</th>\n",
       "      <th>SaleType</th>\n",
       "      <th>SaleCondn</th>\n",
       "      <th>PropPrice</th>\n",
       "    </tr>\n",
       "  </thead>\n",
       "  <tbody>\n",
       "    <tr>\n",
       "      <th>0</th>\n",
       "      <td>1</td>\n",
       "      <td>60</td>\n",
       "      <td>RL</td>\n",
       "      <td>65.0</td>\n",
       "      <td>8450</td>\n",
       "      <td>Pave</td>\n",
       "      <td>NaN</td>\n",
       "      <td>Reg</td>\n",
       "      <td>Lvl</td>\n",
       "      <td>AllPub</td>\n",
       "      <td>...</td>\n",
       "      <td>0</td>\n",
       "      <td>NaN</td>\n",
       "      <td>NaN</td>\n",
       "      <td>NaN</td>\n",
       "      <td>0</td>\n",
       "      <td>2</td>\n",
       "      <td>2008</td>\n",
       "      <td>WD</td>\n",
       "      <td>Normal</td>\n",
       "      <td>208500</td>\n",
       "    </tr>\n",
       "    <tr>\n",
       "      <th>1</th>\n",
       "      <td>2</td>\n",
       "      <td>20</td>\n",
       "      <td>RL</td>\n",
       "      <td>80.0</td>\n",
       "      <td>9600</td>\n",
       "      <td>Pave</td>\n",
       "      <td>NaN</td>\n",
       "      <td>Reg</td>\n",
       "      <td>Lvl</td>\n",
       "      <td>AllPub</td>\n",
       "      <td>...</td>\n",
       "      <td>0</td>\n",
       "      <td>NaN</td>\n",
       "      <td>NaN</td>\n",
       "      <td>NaN</td>\n",
       "      <td>0</td>\n",
       "      <td>5</td>\n",
       "      <td>2007</td>\n",
       "      <td>WD</td>\n",
       "      <td>Normal</td>\n",
       "      <td>181500</td>\n",
       "    </tr>\n",
       "    <tr>\n",
       "      <th>2</th>\n",
       "      <td>3</td>\n",
       "      <td>60</td>\n",
       "      <td>RL</td>\n",
       "      <td>68.0</td>\n",
       "      <td>11250</td>\n",
       "      <td>Pave</td>\n",
       "      <td>NaN</td>\n",
       "      <td>IR1</td>\n",
       "      <td>Lvl</td>\n",
       "      <td>AllPub</td>\n",
       "      <td>...</td>\n",
       "      <td>0</td>\n",
       "      <td>NaN</td>\n",
       "      <td>NaN</td>\n",
       "      <td>NaN</td>\n",
       "      <td>0</td>\n",
       "      <td>9</td>\n",
       "      <td>2008</td>\n",
       "      <td>WD</td>\n",
       "      <td>Normal</td>\n",
       "      <td>223500</td>\n",
       "    </tr>\n",
       "    <tr>\n",
       "      <th>3</th>\n",
       "      <td>4</td>\n",
       "      <td>70</td>\n",
       "      <td>RL</td>\n",
       "      <td>60.0</td>\n",
       "      <td>9550</td>\n",
       "      <td>Pave</td>\n",
       "      <td>NaN</td>\n",
       "      <td>IR1</td>\n",
       "      <td>Lvl</td>\n",
       "      <td>AllPub</td>\n",
       "      <td>...</td>\n",
       "      <td>0</td>\n",
       "      <td>NaN</td>\n",
       "      <td>NaN</td>\n",
       "      <td>NaN</td>\n",
       "      <td>0</td>\n",
       "      <td>2</td>\n",
       "      <td>2006</td>\n",
       "      <td>WD</td>\n",
       "      <td>Abnorml</td>\n",
       "      <td>140000</td>\n",
       "    </tr>\n",
       "    <tr>\n",
       "      <th>4</th>\n",
       "      <td>5</td>\n",
       "      <td>60</td>\n",
       "      <td>RL</td>\n",
       "      <td>84.0</td>\n",
       "      <td>14260</td>\n",
       "      <td>Pave</td>\n",
       "      <td>NaN</td>\n",
       "      <td>IR1</td>\n",
       "      <td>Lvl</td>\n",
       "      <td>AllPub</td>\n",
       "      <td>...</td>\n",
       "      <td>0</td>\n",
       "      <td>NaN</td>\n",
       "      <td>NaN</td>\n",
       "      <td>NaN</td>\n",
       "      <td>0</td>\n",
       "      <td>12</td>\n",
       "      <td>2008</td>\n",
       "      <td>WD</td>\n",
       "      <td>Normal</td>\n",
       "      <td>250000</td>\n",
       "    </tr>\n",
       "  </tbody>\n",
       "</table>\n",
       "<p>5 rows × 81 columns</p>\n",
       "</div>"
      ],
      "text/plain": [
       "   PropertyID  PropertyClass PropertyZone  PropertyFrontage  PropertySize  \\\n",
       "0           1             60           RL              65.0          8450   \n",
       "1           2             20           RL              80.0          9600   \n",
       "2           3             60           RL              68.0         11250   \n",
       "3           4             70           RL              60.0          9550   \n",
       "4           5             60           RL              84.0         14260   \n",
       "\n",
       "  Street Alley PropertyShape Elevation Amenities  ... PoolArea PoolQC  \\\n",
       "0   Pave   NaN           Reg       Lvl    AllPub  ...        0    NaN   \n",
       "1   Pave   NaN           Reg       Lvl    AllPub  ...        0    NaN   \n",
       "2   Pave   NaN           IR1       Lvl    AllPub  ...        0    NaN   \n",
       "3   Pave   NaN           IR1       Lvl    AllPub  ...        0    NaN   \n",
       "4   Pave   NaN           IR1       Lvl    AllPub  ...        0    NaN   \n",
       "\n",
       "  BoundaryFeatures AddFeatures AddVal SaleMon SaleYr  SaleType  SaleCondn  \\\n",
       "0              NaN         NaN      0       2   2008        WD     Normal   \n",
       "1              NaN         NaN      0       5   2007        WD     Normal   \n",
       "2              NaN         NaN      0       9   2008        WD     Normal   \n",
       "3              NaN         NaN      0       2   2006        WD    Abnorml   \n",
       "4              NaN         NaN      0      12   2008        WD     Normal   \n",
       "\n",
       "   PropPrice  \n",
       "0     208500  \n",
       "1     181500  \n",
       "2     223500  \n",
       "3     140000  \n",
       "4     250000  \n",
       "\n",
       "[5 rows x 81 columns]"
      ]
     },
     "execution_count": 3,
     "metadata": {},
     "output_type": "execute_result"
    }
   ],
   "source": [
    "df.head(5)"
   ]
  },
  {
   "cell_type": "code",
   "execution_count": 4,
   "id": "a81580fc",
   "metadata": {},
   "outputs": [
    {
     "data": {
      "text/plain": [
       "(1460, 81)"
      ]
     },
     "execution_count": 4,
     "metadata": {},
     "output_type": "execute_result"
    }
   ],
   "source": [
    "# Dimension of the dataset\n",
    "df.shape"
   ]
  },
  {
   "cell_type": "markdown",
   "id": "70cefdfd",
   "metadata": {},
   "source": [
    "# TASK2 -- DATA EXPLORATION"
   ]
  },
  {
   "cell_type": "code",
   "execution_count": 5,
   "id": "fd3c8352",
   "metadata": {},
   "outputs": [
    {
     "name": "stdout",
     "output_type": "stream",
     "text": [
      "<class 'pandas.core.frame.DataFrame'>\n",
      "RangeIndex: 1460 entries, 0 to 1459\n",
      "Data columns (total 81 columns):\n",
      " #   Column                Non-Null Count  Dtype  \n",
      "---  ------                --------------  -----  \n",
      " 0   PropertyID            1460 non-null   int64  \n",
      " 1   PropertyClass         1460 non-null   int64  \n",
      " 2   PropertyZone          1460 non-null   object \n",
      " 3   PropertyFrontage      1201 non-null   float64\n",
      " 4   PropertySize          1460 non-null   int64  \n",
      " 5   Street                1460 non-null   object \n",
      " 6   Alley                 91 non-null     object \n",
      " 7   PropertyShape         1460 non-null   object \n",
      " 8   Elevation             1460 non-null   object \n",
      " 9   Amenities             1460 non-null   object \n",
      " 10  Orientation           1460 non-null   object \n",
      " 11  Grade                 1460 non-null   object \n",
      " 12  Neighborhood          1460 non-null   object \n",
      " 13  Condition1            1460 non-null   object \n",
      " 14  Condition2            1460 non-null   object \n",
      " 15  BldgType              1460 non-null   object \n",
      " 16  PropertyStyle         1460 non-null   object \n",
      " 17  OverallQual           1460 non-null   int64  \n",
      " 18  OverallCond           1460 non-null   int64  \n",
      " 19  YearBuilt             1460 non-null   int64  \n",
      " 20  YearRemodAdd          1460 non-null   int64  \n",
      " 21  RoofStyle             1460 non-null   object \n",
      " 22  RoofMatl              1460 non-null   object \n",
      " 23  Roof1Material         1460 non-null   object \n",
      " 24  Roof2Material         1460 non-null   object \n",
      " 25  ExteriorCladdingType  1452 non-null   object \n",
      " 26  ExteriorCladdingArea  1452 non-null   float64\n",
      " 27  ExterQual             1460 non-null   object \n",
      " 28  ExterCond             1460 non-null   object \n",
      " 29  PropertyFooting       1460 non-null   object \n",
      " 30  BsmntFinish           1423 non-null   object \n",
      " 31  BsmntMaintenance      1423 non-null   object \n",
      " 32  BsmntVisibility       1422 non-null   object \n",
      " 33  BsmntFinRat1          1423 non-null   object \n",
      " 34  BsmntFinSty1          1460 non-null   int64  \n",
      " 35  BsmntFinQual1         1422 non-null   object \n",
      " 36  BsmtFinSF2            1460 non-null   int64  \n",
      " 37  BsmtUnfSF             1460 non-null   int64  \n",
      " 38  BsmntSqFtage          1460 non-null   int64  \n",
      " 39  Heating               1460 non-null   object \n",
      " 40  HeatingEfficiency     1460 non-null   object \n",
      " 41  CentralAir            1460 non-null   object \n",
      " 42  Electrical            1459 non-null   object \n",
      " 43  1stFlrSF              1460 non-null   int64  \n",
      " 44  2ndFlrSF              1460 non-null   int64  \n",
      " 45  LowQualFinSF          1460 non-null   int64  \n",
      " 46  GrLivArea             1460 non-null   int64  \n",
      " 47  BsmtFullBath          1460 non-null   int64  \n",
      " 48  BsmtHalfBath          1460 non-null   int64  \n",
      " 49  Bath1                 1460 non-null   int64  \n",
      " 50  Bath2                 1460 non-null   int64  \n",
      " 51  BedroomUpLev          1460 non-null   int64  \n",
      " 52  KitchenUpLev          1460 non-null   int64  \n",
      " 53  KitchenQual           1460 non-null   object \n",
      " 54  CntRmsUpLev           1460 non-null   int64  \n",
      " 55  Functional            1460 non-null   object \n",
      " 56  CntFireplaces         1460 non-null   int64  \n",
      " 57  QualFireplace         770 non-null    object \n",
      " 58  BasementType          1379 non-null   object \n",
      " 59  BasementYrBlt         1379 non-null   float64\n",
      " 60  BasementFinish        1379 non-null   object \n",
      " 61  BasementCars          1460 non-null   int64  \n",
      " 62  BasementSqFootage     1460 non-null   int64  \n",
      " 63  BasementQual          1379 non-null   object \n",
      " 64  BasementCond          1379 non-null   object \n",
      " 65  PavedDrive            1460 non-null   object \n",
      " 66  WoodDeckSF            1460 non-null   int64  \n",
      " 67  OpenPorchSF           1460 non-null   int64  \n",
      " 68  EnclosedPorch         1460 non-null   int64  \n",
      " 69  3SsnPorch             1460 non-null   int64  \n",
      " 70  ScreenPorch           1460 non-null   int64  \n",
      " 71  PoolArea              1460 non-null   int64  \n",
      " 72  PoolQC                7 non-null      object \n",
      " 73  BoundaryFeatures      281 non-null    object \n",
      " 74  AddFeatures           54 non-null     object \n",
      " 75  AddVal                1460 non-null   int64  \n",
      " 76  SaleMon               1460 non-null   int64  \n",
      " 77  SaleYr                1460 non-null   int64  \n",
      " 78  SaleType              1460 non-null   object \n",
      " 79  SaleCondn             1460 non-null   object \n",
      " 80  PropPrice             1460 non-null   int64  \n",
      "dtypes: float64(3), int64(35), object(43)\n",
      "memory usage: 924.0+ KB\n"
     ]
    }
   ],
   "source": [
    "# General Info about the dataset such as dtype,Number of columns,row\n",
    "df.info()"
   ]
  },
  {
   "cell_type": "code",
   "execution_count": 6,
   "id": "d30627da",
   "metadata": {},
   "outputs": [
    {
     "name": "stderr",
     "output_type": "stream",
     "text": [
      "C:\\Users\\birle\\AppData\\Local\\Temp\\ipykernel_33544\\953698730.py:1: FutureWarning: The default value of numeric_only in DataFrame.corr is deprecated. In a future version, it will default to False. Select only valid columns or specify the value of numeric_only to silence this warning.\n",
      "  df.corr()['PropPrice'].sort_values(ascending=False)\n"
     ]
    },
    {
     "data": {
      "text/plain": [
       "PropPrice               1.000000\n",
       "OverallQual             0.790982\n",
       "GrLivArea               0.708624\n",
       "BasementCars            0.640409\n",
       "BasementSqFootage       0.623431\n",
       "BsmntSqFtage            0.613581\n",
       "1stFlrSF                0.605852\n",
       "Bath1                   0.560664\n",
       "CntRmsUpLev             0.533723\n",
       "YearBuilt               0.522897\n",
       "YearRemodAdd            0.507101\n",
       "BasementYrBlt           0.486362\n",
       "ExteriorCladdingArea    0.477493\n",
       "CntFireplaces           0.466929\n",
       "BsmntFinSty1            0.386420\n",
       "PropertyFrontage        0.351799\n",
       "WoodDeckSF              0.324413\n",
       "2ndFlrSF                0.319334\n",
       "OpenPorchSF             0.315856\n",
       "Bath2                   0.284108\n",
       "PropertySize            0.263843\n",
       "BsmtFullBath            0.227122\n",
       "BsmtUnfSF               0.214479\n",
       "BedroomUpLev            0.168213\n",
       "ScreenPorch             0.111447\n",
       "PoolArea                0.092404\n",
       "SaleMon                 0.046432\n",
       "3SsnPorch               0.044584\n",
       "BsmtFinSF2             -0.011378\n",
       "BsmtHalfBath           -0.016844\n",
       "AddVal                 -0.021190\n",
       "PropertyID             -0.021917\n",
       "LowQualFinSF           -0.025606\n",
       "SaleYr                 -0.028923\n",
       "OverallCond            -0.077856\n",
       "PropertyClass          -0.084284\n",
       "EnclosedPorch          -0.128578\n",
       "KitchenUpLev           -0.135907\n",
       "Name: PropPrice, dtype: float64"
      ]
     },
     "execution_count": 6,
     "metadata": {},
     "output_type": "execute_result"
    }
   ],
   "source": [
    "# Correlation of different numeric columns with respect to Price(Target Feature)\n",
    "df.corr()['PropPrice'].sort_values(ascending=False)"
   ]
  },
  {
   "cell_type": "code",
   "execution_count": 7,
   "id": "7a5f061e",
   "metadata": {},
   "outputs": [
    {
     "name": "stdout",
     "output_type": "stream",
     "text": [
      "Columns and their null value count \n",
      "\n",
      "PropertyFrontage = 259\n",
      "Alley = 1369\n",
      "ExteriorCladdingType = 8\n",
      "ExteriorCladdingArea = 8\n",
      "BsmntFinish = 37\n",
      "BsmntMaintenance = 37\n",
      "BsmntVisibility = 38\n",
      "BsmntFinRat1 = 37\n",
      "BsmntFinQual1 = 38\n",
      "Electrical = 1\n",
      "QualFireplace = 690\n",
      "BasementType = 81\n",
      "BasementYrBlt = 81\n",
      "BasementFinish = 81\n",
      "BasementQual = 81\n",
      "BasementCond = 81\n",
      "PoolQC = 1453\n",
      "BoundaryFeatures = 1179\n",
      "AddFeatures = 1406\n"
     ]
    }
   ],
   "source": [
    "# Name of columns with null values\n",
    "print('Columns and their null value count \\n')\n",
    "for i in df.columns:\n",
    "    if (df[i].isnull().sum())> 0:\n",
    "        print( i , '=' , df[i].isnull().sum())"
   ]
  },
  {
   "cell_type": "markdown",
   "id": "b0a5fde0",
   "metadata": {},
   "source": [
    "# TASK 3 -- DATA CLEANING"
   ]
  },
  {
   "cell_type": "code",
   "execution_count": 8,
   "id": "bc4fcdee",
   "metadata": {},
   "outputs": [
    {
     "data": {
      "text/plain": [
       "<Axes: >"
      ]
     },
     "execution_count": 8,
     "metadata": {},
     "output_type": "execute_result"
    },
    {
     "data": {
      "image/png": "[encoded data removed]",
      "text/plain": [
       "<Figure size 640x480 with 1 Axes>"
      ]
     },
     "metadata": {},
     "output_type": "display_data"
    }
   ],
   "source": [
    "# Identifying outliers through boxplot\n",
    "sns.boxplot(df[['PropPrice','PropertySize','PropertyClass','YearBuilt']])"
   ]
  },
  {
   "cell_type": "code",
   "execution_count": 9,
   "id": "8fee9e5a",
   "metadata": {},
   "outputs": [],
   "source": [
    "# Treating the outliers through Capping method\n",
    "for i in df.columns:\n",
    "    if df[i].dtype!='object':\n",
    "        q1 = df[i].quantile(0.25)\n",
    "        q3 = df[i].quantile(0.75)\n",
    "        IQR=q3-q1\n",
    "    \n",
    "        lower = q1-1.5*IQR\n",
    "        upper = q3+1.5*IQR\n",
    "        df[i]=np.where(df[i]>upper,upper,np.where(df[i]<lower,lower,df[i]))"
   ]
  },
  {
   "cell_type": "code",
   "execution_count": 10,
   "id": "e0954f3c",
   "metadata": {},
   "outputs": [
    {
     "data": {
      "text/plain": [
       "<Axes: >"
      ]
     },
     "execution_count": 10,
     "metadata": {},
     "output_type": "execute_result"
    },
    {
     "data": {
      "image/png": "[encoded data removed]",
      "text/plain": [
       "<Figure size 640x480 with 1 Axes>"
      ]
     },
     "metadata": {},
     "output_type": "display_data"
    }
   ],
   "source": [
    "# Checking outliers after Capping\n",
    "sns.boxplot(df[['PropPrice','PropertySize','PropertyClass','YearBuilt']])"
   ]
  },
  {
   "cell_type": "code",
   "execution_count": 11,
   "id": "6fd902ba",
   "metadata": {},
   "outputs": [],
   "source": [
    "# Filling null values in object dtype through Mode of corresponding columns\n",
    "for i in df.columns:\n",
    "    if df[i].dtype=='object':\n",
    "        df[i].fillna(df[i].mode()[0],inplace=True)"
   ]
  },
  {
   "cell_type": "code",
   "execution_count": 12,
   "id": "61ba0080",
   "metadata": {},
   "outputs": [],
   "source": [
    "# Filling null values in numeric dtypes through mean of corresponding column\n",
    "for i in df.columns:\n",
    "    if df[i].dtype!='object':\n",
    "        df[i].fillna(df[i].mean(),inplace=True)"
   ]
  },
  {
   "cell_type": "code",
   "execution_count": 13,
   "id": "84ac4e26",
   "metadata": {},
   "outputs": [
    {
     "name": "stdout",
     "output_type": "stream",
     "text": [
      "No null values are found\n"
     ]
    }
   ],
   "source": [
    "# Checking null values after treatment\n",
    "for i in df.columns:\n",
    "    if (df[i].isnull().sum())> 0:\n",
    "        print( i , '=' , df[i].isnull().sum())\n",
    "    else:\n",
    "        print('No null values are found')\n",
    "    break"
   ]
  },
  {
   "cell_type": "code",
   "execution_count": 15,
   "id": "2468576d",
   "metadata": {},
   "outputs": [
    {
     "name": "stdout",
     "output_type": "stream",
     "text": [
      "Unique Values in categorical Columns \n",
      "\n",
      "PropertyZone : 5\n",
      "Street : 2\n",
      "Alley : 2\n",
      "PropertyShape : 4\n",
      "Elevation : 4\n",
      "Amenities : 2\n",
      "Orientation : 5\n",
      "Grade : 3\n",
      "Neighborhood : 25\n",
      "Condition1 : 9\n",
      "Condition2 : 8\n",
      "BldgType : 5\n",
      "PropertyStyle : 8\n",
      "RoofStyle : 6\n",
      "RoofMatl : 8\n",
      "Roof1Material : 15\n",
      "Roof2Material : 16\n",
      "ExteriorCladdingType : 4\n",
      "ExterQual : 4\n",
      "ExterCond : 5\n",
      "PropertyFooting : 6\n",
      "BsmntFinish : 4\n",
      "BsmntMaintenance : 4\n",
      "BsmntVisibility : 4\n",
      "BsmntFinRat1 : 6\n",
      "BsmntFinQual1 : 6\n",
      "Heating : 6\n",
      "HeatingEfficiency : 5\n",
      "CentralAir : 2\n",
      "Electrical : 5\n",
      "KitchenQual : 4\n",
      "Functional : 7\n",
      "QualFireplace : 5\n",
      "BasementType : 6\n",
      "BasementFinish : 3\n",
      "BasementQual : 5\n",
      "BasementCond : 5\n",
      "PavedDrive : 3\n",
      "PoolQC : 3\n",
      "BoundaryFeatures : 4\n",
      "AddFeatures : 4\n",
      "SaleType : 9\n",
      "SaleCondn : 6\n"
     ]
    }
   ],
   "source": [
    "# Finding unique values in Categorical Columns \n",
    "print('Unique Values in categorical Columns \\n')\n",
    "for i in df.columns:\n",
    "    if df[i].dtype=='object':\n",
    "     print(i,':', len(df[i].unique()))"
   ]
  },
  {
   "cell_type": "code",
   "execution_count": 16,
   "id": "b168de93",
   "metadata": {},
   "outputs": [
    {
     "data": {
      "text/plain": [
       "0.8027863231337099"
      ]
     },
     "execution_count": 16,
     "metadata": {},
     "output_type": "execute_result"
    }
   ],
   "source": [
    "# Checking skewness score of Target variable(PropPrice)\n",
    "df['PropPrice'].skew()"
   ]
  },
  {
   "cell_type": "markdown",
   "id": "ee828c20",
   "metadata": {},
   "source": [
    "# TASK 4 -- DATA VISUALISATION"
   ]
  },
  {
   "cell_type": "code",
   "execution_count": 17,
   "id": "cae28e5b",
   "metadata": {},
   "outputs": [
    {
     "name": "stderr",
     "output_type": "stream",
     "text": [
      "C:\\Users\\birle\\AppData\\Local\\Temp\\ipykernel_33544\\2663213944.py:2: UserWarning: \n",
      "\n",
      "`distplot` is a deprecated function and will be removed in seaborn v0.14.0.\n",
      "\n",
      "Please adapt your code to use either `displot` (a figure-level function with\n",
      "similar flexibility) or `histplot` (an axes-level function for histograms).\n",
      "\n",
      "For a guide to updating your code to use the new functions, please see\n",
      "https://gist.github.com/mwaskom/de44147ed2974457ad6372750bbe5751\n",
      "\n",
      "  sns.distplot(df['PropPrice'])\n"
     ]
    },
    {
     "data": {
      "image/png": "[encoded data removed]",
      "text/plain": [
       "<Figure size 640x480 with 1 Axes>"
      ]
     },
     "metadata": {},
     "output_type": "display_data"
    }
   ],
   "source": [
    "# Skewness of target feature through distplot\n",
    "plt.figure()\n",
    "sns.distplot(df['PropPrice'])\n",
    "plt.show()"
   ]
  },
  {
   "cell_type": "code",
   "execution_count": 18,
   "id": "5979edf3",
   "metadata": {},
   "outputs": [
    {
     "data": {
      "text/plain": [
       "<Axes: xlabel='OverallQual', ylabel='PropPrice'>"
      ]
     },
     "execution_count": 18,
     "metadata": {},
     "output_type": "execute_result"
    },
    {
     "data": {
      "image/png": "[encoded data removed]",
      "text/plain": [
       "<Figure size 640x480 with 1 Axes>"
      ]
     },
     "metadata": {},
     "output_type": "display_data"
    }
   ],
   "source": [
    "# Checking Correlation through scatterplot\n",
    "sns.scatterplot(data=df,x='OverallQual',y='PropPrice')"
   ]
  },
  {
   "cell_type": "code",
   "execution_count": 19,
   "id": "e848e431",
   "metadata": {},
   "outputs": [
    {
     "data": {
      "text/plain": [
       "<Axes: xlabel='BasementCars', ylabel='PropPrice'>"
      ]
     },
     "execution_count": 19,
     "metadata": {},
     "output_type": "execute_result"
    },
    {
     "data": {
      "image/png": "[encoded data removed]",
      "text/plain": [
       "<Figure size 640x480 with 1 Axes>"
      ]
     },
     "metadata": {},
     "output_type": "display_data"
    }
   ],
   "source": [
    "sns.scatterplot(data=df,x='BasementCars',y='PropPrice')"
   ]
  },
  {
   "cell_type": "code",
   "execution_count": 20,
   "id": "145d100d",
   "metadata": {},
   "outputs": [
    {
     "data": {
      "text/plain": [
       "<Axes: xlabel='Bath1', ylabel='PropPrice'>"
      ]
     },
     "execution_count": 20,
     "metadata": {},
     "output_type": "execute_result"
    },
    {
     "data": {
      "image/png": "[encoded data removed]",
      "text/plain": [
       "<Figure size 640x480 with 1 Axes>"
      ]
     },
     "metadata": {},
     "output_type": "display_data"
    }
   ],
   "source": [
    "sns.scatterplot(data=df,x='Bath1',y='PropPrice')"
   ]
  },
  {
   "cell_type": "code",
   "execution_count": 21,
   "id": "3d8905cb",
   "metadata": {},
   "outputs": [
    {
     "data": {
      "text/plain": [
       "<Axes: xlabel='PropertyZone', ylabel='PropPrice'>"
      ]
     },
     "execution_count": 21,
     "metadata": {},
     "output_type": "execute_result"
    },
    {
     "data": {
      "image/png": "[encoded data removed]",
      "text/plain": [
       "<Figure size 640x480 with 1 Axes>"
      ]
     },
     "metadata": {},
     "output_type": "display_data"
    }
   ],
   "source": [
    "# Checking correlation between Price and Input features through Barplot\n",
    "sns.barplot(x=df['PropertyZone'],y=df['PropPrice'])"
   ]
  },
  {
   "cell_type": "code",
   "execution_count": 22,
   "id": "81c92bf3",
   "metadata": {},
   "outputs": [
    {
     "data": {
      "text/plain": [
       "<Axes: xlabel='Street', ylabel='PropPrice'>"
      ]
     },
     "execution_count": 22,
     "metadata": {},
     "output_type": "execute_result"
    },
    {
     "data": {
      "image/png": "[encoded data removed]",
      "text/plain": [
       "<Figure size 640x480 with 1 Axes>"
      ]
     },
     "metadata": {},
     "output_type": "display_data"
    }
   ],
   "source": [
    "sns.barplot(x=df['Street'],y=df['PropPrice'])"
   ]
  },
  {
   "cell_type": "code",
   "execution_count": 23,
   "id": "f130ffda",
   "metadata": {},
   "outputs": [
    {
     "data": {
      "text/plain": [
       "<Axes: xlabel='PropertyShape', ylabel='PropPrice'>"
      ]
     },
     "execution_count": 23,
     "metadata": {},
     "output_type": "execute_result"
    },
    {
     "data": {
      "image/png": "[encoded data removed]",
      "text/plain": [
       "<Figure size 640x480 with 1 Axes>"
      ]
     },
     "metadata": {},
     "output_type": "display_data"
    }
   ],
   "source": [
    "sns.barplot(x=df['PropertyShape'],y=df['PropPrice'])"
   ]
  },
  {
   "cell_type": "code",
   "execution_count": 24,
   "id": "ad87272d",
   "metadata": {},
   "outputs": [
    {
     "data": {
      "text/plain": [
       "<Axes: xlabel='Elevation', ylabel='PropPrice'>"
      ]
     },
     "execution_count": 24,
     "metadata": {},
     "output_type": "execute_result"
    },
    {
     "data": {
      "image/png": "[encoded data removed]",
      "text/plain": [
       "<Figure size 640x480 with 1 Axes>"
      ]
     },
     "metadata": {},
     "output_type": "display_data"
    }
   ],
   "source": [
    "sns.barplot(x=df['Elevation'],y=df['PropPrice'])"
   ]
  },
  {
   "cell_type": "code",
   "execution_count": 25,
   "id": "0d3ea519",
   "metadata": {},
   "outputs": [
    {
     "data": {
      "text/plain": [
       "<Axes: xlabel='Amenities', ylabel='PropPrice'>"
      ]
     },
     "execution_count": 25,
     "metadata": {},
     "output_type": "execute_result"
    },
    {
     "data": {
      "image/png": "[encoded data removed]",
      "text/plain": [
       "<Figure size 640x480 with 1 Axes>"
      ]
     },
     "metadata": {},
     "output_type": "display_data"
    }
   ],
   "source": [
    "sns.barplot(x=df['Amenities'],y=df['PropPrice'])"
   ]
  },
  {
   "cell_type": "code",
   "execution_count": 26,
   "id": "6d73b2ce",
   "metadata": {},
   "outputs": [
    {
     "data": {
      "text/plain": [
       "<Axes: xlabel='PropertyStyle', ylabel='PropPrice'>"
      ]
     },
     "execution_count": 26,
     "metadata": {},
     "output_type": "execute_result"
    },
    {
     "data": {
      "image/png": "[encoded data removed]",
      "text/plain": [
       "<Figure size 640x480 with 1 Axes>"
      ]
     },
     "metadata": {},
     "output_type": "display_data"
    }
   ],
   "source": [
    "sns.barplot(x=df['PropertyStyle'],y=df['PropPrice'])"
   ]
  },
  {
   "cell_type": "markdown",
   "id": "d78c475d",
   "metadata": {},
   "source": [
    "# TASK 5 -- MACHINE LEARNING MODEL BUILDING TO PREDICT THE PRICE"
   ]
  },
  {
   "cell_type": "code",
   "execution_count": 117,
   "id": "1eaf6152",
   "metadata": {},
   "outputs": [],
   "source": [
    "# Separating thhe Input features as x and target features as y\n",
    "# Applying log function on target feature to reduce skewness\n",
    "x = df.drop(['PropertyID','PropPrice'],axis=1)\n",
    "y = np.log(df['PropPrice'])"
   ]
  },
  {
   "cell_type": "code",
   "execution_count": 118,
   "id": "fd37409f",
   "metadata": {},
   "outputs": [
    {
     "data": {
      "text/html": [
       "<div>\n",
       "<style scoped>\n",
       "    .dataframe tbody tr th:only-of-type {\n",
       "        vertical-align: middle;\n",
       "    }\n",
       "\n",
       "    .dataframe tbody tr th {\n",
       "        vertical-align: top;\n",
       "    }\n",
       "\n",
       "    .dataframe thead th {\n",
       "        text-align: right;\n",
       "    }\n",
       "</style>\n",
       "<table border=\"1\" class=\"dataframe\">\n",
       "  <thead>\n",
       "    <tr style=\"text-align: right;\">\n",
       "      <th></th>\n",
       "      <th>PropertyClass</th>\n",
       "      <th>PropertyZone</th>\n",
       "      <th>PropertyFrontage</th>\n",
       "      <th>PropertySize</th>\n",
       "      <th>Street</th>\n",
       "      <th>Alley</th>\n",
       "      <th>PropertyShape</th>\n",
       "      <th>Elevation</th>\n",
       "      <th>Amenities</th>\n",
       "      <th>Orientation</th>\n",
       "      <th>...</th>\n",
       "      <th>ScreenPorch</th>\n",
       "      <th>PoolArea</th>\n",
       "      <th>PoolQC</th>\n",
       "      <th>BoundaryFeatures</th>\n",
       "      <th>AddFeatures</th>\n",
       "      <th>AddVal</th>\n",
       "      <th>SaleMon</th>\n",
       "      <th>SaleYr</th>\n",
       "      <th>SaleType</th>\n",
       "      <th>SaleCondn</th>\n",
       "    </tr>\n",
       "  </thead>\n",
       "  <tbody>\n",
       "    <tr>\n",
       "      <th>0</th>\n",
       "      <td>60.0</td>\n",
       "      <td>RL</td>\n",
       "      <td>65.0</td>\n",
       "      <td>8450.0</td>\n",
       "      <td>Pave</td>\n",
       "      <td>Grvl</td>\n",
       "      <td>Reg</td>\n",
       "      <td>Lvl</td>\n",
       "      <td>AllPub</td>\n",
       "      <td>Inside</td>\n",
       "      <td>...</td>\n",
       "      <td>0.0</td>\n",
       "      <td>0.0</td>\n",
       "      <td>Gd</td>\n",
       "      <td>MnPrv</td>\n",
       "      <td>Shed</td>\n",
       "      <td>0.0</td>\n",
       "      <td>2.0</td>\n",
       "      <td>2008.0</td>\n",
       "      <td>WD</td>\n",
       "      <td>Normal</td>\n",
       "    </tr>\n",
       "    <tr>\n",
       "      <th>1</th>\n",
       "      <td>20.0</td>\n",
       "      <td>RL</td>\n",
       "      <td>80.0</td>\n",
       "      <td>9600.0</td>\n",
       "      <td>Pave</td>\n",
       "      <td>Grvl</td>\n",
       "      <td>Reg</td>\n",
       "      <td>Lvl</td>\n",
       "      <td>AllPub</td>\n",
       "      <td>FR2</td>\n",
       "      <td>...</td>\n",
       "      <td>0.0</td>\n",
       "      <td>0.0</td>\n",
       "      <td>Gd</td>\n",
       "      <td>MnPrv</td>\n",
       "      <td>Shed</td>\n",
       "      <td>0.0</td>\n",
       "      <td>5.0</td>\n",
       "      <td>2007.0</td>\n",
       "      <td>WD</td>\n",
       "      <td>Normal</td>\n",
       "    </tr>\n",
       "    <tr>\n",
       "      <th>2</th>\n",
       "      <td>60.0</td>\n",
       "      <td>RL</td>\n",
       "      <td>68.0</td>\n",
       "      <td>11250.0</td>\n",
       "      <td>Pave</td>\n",
       "      <td>Grvl</td>\n",
       "      <td>IR1</td>\n",
       "      <td>Lvl</td>\n",
       "      <td>AllPub</td>\n",
       "      <td>Inside</td>\n",
       "      <td>...</td>\n",
       "      <td>0.0</td>\n",
       "      <td>0.0</td>\n",
       "      <td>Gd</td>\n",
       "      <td>MnPrv</td>\n",
       "      <td>Shed</td>\n",
       "      <td>0.0</td>\n",
       "      <td>9.0</td>\n",
       "      <td>2008.0</td>\n",
       "      <td>WD</td>\n",
       "      <td>Normal</td>\n",
       "    </tr>\n",
       "    <tr>\n",
       "      <th>3</th>\n",
       "      <td>70.0</td>\n",
       "      <td>RL</td>\n",
       "      <td>60.0</td>\n",
       "      <td>9550.0</td>\n",
       "      <td>Pave</td>\n",
       "      <td>Grvl</td>\n",
       "      <td>IR1</td>\n",
       "      <td>Lvl</td>\n",
       "      <td>AllPub</td>\n",
       "      <td>Corner</td>\n",
       "      <td>...</td>\n",
       "      <td>0.0</td>\n",
       "      <td>0.0</td>\n",
       "      <td>Gd</td>\n",
       "      <td>MnPrv</td>\n",
       "      <td>Shed</td>\n",
       "      <td>0.0</td>\n",
       "      <td>2.0</td>\n",
       "      <td>2006.0</td>\n",
       "      <td>WD</td>\n",
       "      <td>Abnorml</td>\n",
       "    </tr>\n",
       "    <tr>\n",
       "      <th>4</th>\n",
       "      <td>60.0</td>\n",
       "      <td>RL</td>\n",
       "      <td>84.0</td>\n",
       "      <td>14260.0</td>\n",
       "      <td>Pave</td>\n",
       "      <td>Grvl</td>\n",
       "      <td>IR1</td>\n",
       "      <td>Lvl</td>\n",
       "      <td>AllPub</td>\n",
       "      <td>FR2</td>\n",
       "      <td>...</td>\n",
       "      <td>0.0</td>\n",
       "      <td>0.0</td>\n",
       "      <td>Gd</td>\n",
       "      <td>MnPrv</td>\n",
       "      <td>Shed</td>\n",
       "      <td>0.0</td>\n",
       "      <td>12.0</td>\n",
       "      <td>2008.0</td>\n",
       "      <td>WD</td>\n",
       "      <td>Normal</td>\n",
       "    </tr>\n",
       "    <tr>\n",
       "      <th>...</th>\n",
       "      <td>...</td>\n",
       "      <td>...</td>\n",
       "      <td>...</td>\n",
       "      <td>...</td>\n",
       "      <td>...</td>\n",
       "      <td>...</td>\n",
       "      <td>...</td>\n",
       "      <td>...</td>\n",
       "      <td>...</td>\n",
       "      <td>...</td>\n",
       "      <td>...</td>\n",
       "      <td>...</td>\n",
       "      <td>...</td>\n",
       "      <td>...</td>\n",
       "      <td>...</td>\n",
       "      <td>...</td>\n",
       "      <td>...</td>\n",
       "      <td>...</td>\n",
       "      <td>...</td>\n",
       "      <td>...</td>\n",
       "      <td>...</td>\n",
       "    </tr>\n",
       "    <tr>\n",
       "      <th>1455</th>\n",
       "      <td>60.0</td>\n",
       "      <td>RL</td>\n",
       "      <td>62.0</td>\n",
       "      <td>7917.0</td>\n",
       "      <td>Pave</td>\n",
       "      <td>Grvl</td>\n",
       "      <td>Reg</td>\n",
       "      <td>Lvl</td>\n",
       "      <td>AllPub</td>\n",
       "      <td>Inside</td>\n",
       "      <td>...</td>\n",
       "      <td>0.0</td>\n",
       "      <td>0.0</td>\n",
       "      <td>Gd</td>\n",
       "      <td>MnPrv</td>\n",
       "      <td>Shed</td>\n",
       "      <td>0.0</td>\n",
       "      <td>8.0</td>\n",
       "      <td>2007.0</td>\n",
       "      <td>WD</td>\n",
       "      <td>Normal</td>\n",
       "    </tr>\n",
       "    <tr>\n",
       "      <th>1456</th>\n",
       "      <td>20.0</td>\n",
       "      <td>RL</td>\n",
       "      <td>85.0</td>\n",
       "      <td>13175.0</td>\n",
       "      <td>Pave</td>\n",
       "      <td>Grvl</td>\n",
       "      <td>Reg</td>\n",
       "      <td>Lvl</td>\n",
       "      <td>AllPub</td>\n",
       "      <td>Inside</td>\n",
       "      <td>...</td>\n",
       "      <td>0.0</td>\n",
       "      <td>0.0</td>\n",
       "      <td>Gd</td>\n",
       "      <td>MnPrv</td>\n",
       "      <td>Shed</td>\n",
       "      <td>0.0</td>\n",
       "      <td>2.0</td>\n",
       "      <td>2010.0</td>\n",
       "      <td>WD</td>\n",
       "      <td>Normal</td>\n",
       "    </tr>\n",
       "    <tr>\n",
       "      <th>1457</th>\n",
       "      <td>70.0</td>\n",
       "      <td>RL</td>\n",
       "      <td>66.0</td>\n",
       "      <td>9042.0</td>\n",
       "      <td>Pave</td>\n",
       "      <td>Grvl</td>\n",
       "      <td>Reg</td>\n",
       "      <td>Lvl</td>\n",
       "      <td>AllPub</td>\n",
       "      <td>Inside</td>\n",
       "      <td>...</td>\n",
       "      <td>0.0</td>\n",
       "      <td>0.0</td>\n",
       "      <td>Gd</td>\n",
       "      <td>GdPrv</td>\n",
       "      <td>Shed</td>\n",
       "      <td>0.0</td>\n",
       "      <td>5.0</td>\n",
       "      <td>2010.0</td>\n",
       "      <td>WD</td>\n",
       "      <td>Normal</td>\n",
       "    </tr>\n",
       "    <tr>\n",
       "      <th>1458</th>\n",
       "      <td>20.0</td>\n",
       "      <td>RL</td>\n",
       "      <td>68.0</td>\n",
       "      <td>9717.0</td>\n",
       "      <td>Pave</td>\n",
       "      <td>Grvl</td>\n",
       "      <td>Reg</td>\n",
       "      <td>Lvl</td>\n",
       "      <td>AllPub</td>\n",
       "      <td>Inside</td>\n",
       "      <td>...</td>\n",
       "      <td>0.0</td>\n",
       "      <td>0.0</td>\n",
       "      <td>Gd</td>\n",
       "      <td>MnPrv</td>\n",
       "      <td>Shed</td>\n",
       "      <td>0.0</td>\n",
       "      <td>4.0</td>\n",
       "      <td>2010.0</td>\n",
       "      <td>WD</td>\n",
       "      <td>Normal</td>\n",
       "    </tr>\n",
       "    <tr>\n",
       "      <th>1459</th>\n",
       "      <td>20.0</td>\n",
       "      <td>RL</td>\n",
       "      <td>75.0</td>\n",
       "      <td>9937.0</td>\n",
       "      <td>Pave</td>\n",
       "      <td>Grvl</td>\n",
       "      <td>Reg</td>\n",
       "      <td>Lvl</td>\n",
       "      <td>AllPub</td>\n",
       "      <td>Inside</td>\n",
       "      <td>...</td>\n",
       "      <td>0.0</td>\n",
       "      <td>0.0</td>\n",
       "      <td>Gd</td>\n",
       "      <td>MnPrv</td>\n",
       "      <td>Shed</td>\n",
       "      <td>0.0</td>\n",
       "      <td>6.0</td>\n",
       "      <td>2008.0</td>\n",
       "      <td>WD</td>\n",
       "      <td>Normal</td>\n",
       "    </tr>\n",
       "  </tbody>\n",
       "</table>\n",
       "<p>1460 rows × 79 columns</p>\n",
       "</div>"
      ],
      "text/plain": [
       "      PropertyClass PropertyZone  PropertyFrontage  PropertySize Street Alley  \\\n",
       "0              60.0           RL              65.0        8450.0   Pave  Grvl   \n",
       "1              20.0           RL              80.0        9600.0   Pave  Grvl   \n",
       "2              60.0           RL              68.0       11250.0   Pave  Grvl   \n",
       "3              70.0           RL              60.0        9550.0   Pave  Grvl   \n",
       "4              60.0           RL              84.0       14260.0   Pave  Grvl   \n",
       "...             ...          ...               ...           ...    ...   ...   \n",
       "1455           60.0           RL              62.0        7917.0   Pave  Grvl   \n",
       "1456           20.0           RL              85.0       13175.0   Pave  Grvl   \n",
       "1457           70.0           RL              66.0        9042.0   Pave  Grvl   \n",
       "1458           20.0           RL              68.0        9717.0   Pave  Grvl   \n",
       "1459           20.0           RL              75.0        9937.0   Pave  Grvl   \n",
       "\n",
       "     PropertyShape Elevation Amenities Orientation  ... ScreenPorch PoolArea  \\\n",
       "0              Reg       Lvl    AllPub      Inside  ...         0.0      0.0   \n",
       "1              Reg       Lvl    AllPub         FR2  ...         0.0      0.0   \n",
       "2              IR1       Lvl    AllPub      Inside  ...         0.0      0.0   \n",
       "3              IR1       Lvl    AllPub      Corner  ...         0.0      0.0   \n",
       "4              IR1       Lvl    AllPub         FR2  ...         0.0      0.0   \n",
       "...            ...       ...       ...         ...  ...         ...      ...   \n",
       "1455           Reg       Lvl    AllPub      Inside  ...         0.0      0.0   \n",
       "1456           Reg       Lvl    AllPub      Inside  ...         0.0      0.0   \n",
       "1457           Reg       Lvl    AllPub      Inside  ...         0.0      0.0   \n",
       "1458           Reg       Lvl    AllPub      Inside  ...         0.0      0.0   \n",
       "1459           Reg       Lvl    AllPub      Inside  ...         0.0      0.0   \n",
       "\n",
       "     PoolQC BoundaryFeatures AddFeatures AddVal  SaleMon  SaleYr  SaleType  \\\n",
       "0        Gd            MnPrv        Shed    0.0      2.0  2008.0        WD   \n",
       "1        Gd            MnPrv        Shed    0.0      5.0  2007.0        WD   \n",
       "2        Gd            MnPrv        Shed    0.0      9.0  2008.0        WD   \n",
       "3        Gd            MnPrv        Shed    0.0      2.0  2006.0        WD   \n",
       "4        Gd            MnPrv        Shed    0.0     12.0  2008.0        WD   \n",
       "...     ...              ...         ...    ...      ...     ...       ...   \n",
       "1455     Gd            MnPrv        Shed    0.0      8.0  2007.0        WD   \n",
       "1456     Gd            MnPrv        Shed    0.0      2.0  2010.0        WD   \n",
       "1457     Gd            GdPrv        Shed    0.0      5.0  2010.0        WD   \n",
       "1458     Gd            MnPrv        Shed    0.0      4.0  2010.0        WD   \n",
       "1459     Gd            MnPrv        Shed    0.0      6.0  2008.0        WD   \n",
       "\n",
       "      SaleCondn  \n",
       "0        Normal  \n",
       "1        Normal  \n",
       "2        Normal  \n",
       "3       Abnorml  \n",
       "4        Normal  \n",
       "...         ...  \n",
       "1455     Normal  \n",
       "1456     Normal  \n",
       "1457     Normal  \n",
       "1458     Normal  \n",
       "1459     Normal  \n",
       "\n",
       "[1460 rows x 79 columns]"
      ]
     },
     "execution_count": 118,
     "metadata": {},
     "output_type": "execute_result"
    }
   ],
   "source": [
    "x"
   ]
  },
  {
   "cell_type": "code",
   "execution_count": 119,
   "id": "8f3c74cb",
   "metadata": {},
   "outputs": [
    {
     "name": "stdout",
     "output_type": "stream",
     "text": [
      "PropertyZone 1\n",
      "Street 4\n",
      "Alley 5\n",
      "PropertyShape 6\n",
      "Elevation 7\n",
      "Amenities 8\n",
      "Orientation 9\n",
      "Grade 10\n",
      "Neighborhood 11\n",
      "Condition1 12\n",
      "Condition2 13\n",
      "BldgType 14\n",
      "PropertyStyle 15\n",
      "RoofStyle 20\n",
      "RoofMatl 21\n",
      "Roof1Material 22\n",
      "Roof2Material 23\n",
      "ExteriorCladdingType 24\n",
      "ExterQual 26\n",
      "ExterCond 27\n",
      "PropertyFooting 28\n",
      "BsmntFinish 29\n",
      "BsmntMaintenance 30\n",
      "BsmntVisibility 31\n",
      "BsmntFinRat1 32\n",
      "BsmntFinQual1 34\n",
      "Heating 38\n",
      "HeatingEfficiency 39\n",
      "CentralAir 40\n",
      "Electrical 41\n",
      "KitchenQual 52\n",
      "Functional 54\n",
      "QualFireplace 56\n",
      "BasementType 57\n",
      "BasementFinish 59\n",
      "BasementQual 62\n",
      "BasementCond 63\n",
      "PavedDrive 64\n",
      "PoolQC 71\n",
      "BoundaryFeatures 72\n",
      "AddFeatures 73\n",
      "SaleType 77\n",
      "SaleCondn 78\n"
     ]
    }
   ],
   "source": [
    "# Checking index value of input features (helpful in encoding)\n",
    "for i in x.columns:\n",
    "    if x[i].dtype=='object':\n",
    "        print(i, x.columns.get_loc(i))"
   ]
  },
  {
   "cell_type": "code",
   "execution_count": 120,
   "id": "a872e14c",
   "metadata": {},
   "outputs": [
    {
     "data": {
      "text/plain": [
       "0       12.247694\n",
       "1       12.109011\n",
       "2       12.317167\n",
       "3       11.849398\n",
       "4       12.429216\n",
       "          ...    \n",
       "1455    12.072541\n",
       "1456    12.254863\n",
       "1457    12.493130\n",
       "1458    11.864462\n",
       "1459    11.901583\n",
       "Name: PropPrice, Length: 1460, dtype: float64"
      ]
     },
     "execution_count": 120,
     "metadata": {},
     "output_type": "execute_result"
    }
   ],
   "source": [
    "y"
   ]
  },
  {
   "cell_type": "code",
   "execution_count": 121,
   "id": "d1713f03",
   "metadata": {},
   "outputs": [],
   "source": [
    "# Splitting the data into trai and test sets \n",
    "from sklearn.model_selection import train_test_split\n",
    "x_train,x_test,y_train,y_test = train_test_split(x,y,test_size=0.2,random_state=2)"
   ]
  },
  {
   "cell_type": "code",
   "execution_count": 122,
   "id": "d49ca880",
   "metadata": {},
   "outputs": [],
   "source": [
    "# Importing necessary libraries for transforming columns,Encoding,building pipeline,Scaling of data and checking accuracy.\n",
    "from sklearn.compose import ColumnTransformer\n",
    "from sklearn.pipeline import Pipeline\n",
    "from sklearn.preprocessing import OneHotEncoder\n",
    "from sklearn.preprocessing import StandardScaler\n",
    "from sklearn.decomposition import PCA\n",
    "from sklearn.metrics import r2_score,mean_absolute_error"
   ]
  },
  {
   "cell_type": "code",
   "execution_count": 123,
   "id": "1a94ab47",
   "metadata": {},
   "outputs": [],
   "source": [
    "# Importing Machine Learning models to be build\n",
    "from sklearn.linear_model import LinearRegression,Ridge,Lasso\n",
    "from sklearn.neighbors import KNeighborsRegressor\n",
    "from sklearn.tree import DecisionTreeRegressor\n",
    "from sklearn.ensemble import RandomForestRegressor,GradientBoostingRegressor,AdaBoostRegressor\n",
    "from sklearn.svm import SVR"
   ]
  },
  {
   "cell_type": "markdown",
   "id": "8c25c3a3",
   "metadata": {},
   "source": [
    "Model 1 -- Linear Regression"
   ]
  },
  {
   "cell_type": "code",
   "execution_count": 229,
   "id": "ca72a801",
   "metadata": {},
   "outputs": [],
   "source": [
    "# Performing Encoding(OneHotEncoding),Scaling of data,Principal Component Analysis and Linear Regression through different steps\n",
    "lrstep1 = ColumnTransformer(transformers=[\n",
    "    ('ohe',OneHotEncoder(sparse=False,drop='first',handle_unknown='ignore'),[1,4,5,6,7,8,9,10,11,12,13,14,15,20,21,22,23,24,26,27,28,29,30,31,32,34,38,39,40,41,42,52,54,56,57,59,62,63,64,71,72,73,77,78])\n",
    "],remainder='passthrough')\n",
    "\n",
    "lrstep2 = StandardScaler()\n",
    "lrstep3 = PCA(n_components=10)\n",
    "lrstep4 = LinearRegression()\n"
   ]
  },
  {
   "cell_type": "code",
   "execution_count": 230,
   "id": "2a06bd5f",
   "metadata": {},
   "outputs": [],
   "source": [
    "# Building Pipeline to combine all the steps of model building\n",
    "lrpipe = Pipeline([\n",
    "    ('lrstep1',lrstep1),\n",
    "    ('lrstep2',lrstep2),\n",
    "    ('lrstep3',lrstep3),\n",
    "    ('lrstep4',lrstep4)\n",
    "])"
   ]
  },
  {
   "cell_type": "code",
   "execution_count": 231,
   "id": "82d62ca8",
   "metadata": {},
   "outputs": [
    {
     "name": "stdout",
     "output_type": "stream",
     "text": [
      "R2 score 0.8467005536757104\n",
      "mean absolute error 0.107205900391271\n"
     ]
    },
    {
     "name": "stderr",
     "output_type": "stream",
     "text": [
      "C:\\Users\\birle\\anaconda3\\lib\\site-packages\\sklearn\\preprocessing\\_encoders.py:975: FutureWarning: `sparse` was renamed to `sparse_output` in version 1.2 and will be removed in 1.4. `sparse_output` is ignored unless you leave `sparse` to its default value.\n",
      "  warnings.warn(\n",
      "C:\\Users\\birle\\anaconda3\\lib\\site-packages\\sklearn\\preprocessing\\_encoders.py:228: UserWarning: Found unknown categories in columns [15, 29, 30] during transform. These unknown categories will be encoded as all zeros\n",
      "  warnings.warn(\n"
     ]
    }
   ],
   "source": [
    "# Fitting our train-test data on the pipeline and making Prediction by checking r2 score and mean absolute error\n",
    "lrpipe.fit(x_train,y_train)\n",
    "y_pred = lrpipe.predict(x_test)\n",
    "print('R2 score', r2_score(y_test,y_pred))\n",
    "print('mean absolute error', mean_absolute_error(y_test,y_pred))\n"
   ]
  },
  {
   "cell_type": "code",
   "execution_count": 232,
   "id": "8dafe449",
   "metadata": {},
   "outputs": [
    {
     "data": {
      "text/plain": [
       "1.1051709180756477"
      ]
     },
     "execution_count": 232,
     "metadata": {},
     "output_type": "execute_result"
    }
   ],
   "source": [
    "np.exp(0.10)"
   ]
  },
  {
   "cell_type": "markdown",
   "id": "f964e816",
   "metadata": {},
   "source": [
    "MODEL 2 -- RIDGE REGRESSION"
   ]
  },
  {
   "cell_type": "code",
   "execution_count": 245,
   "id": "49462e14",
   "metadata": {},
   "outputs": [],
   "source": [
    "Rstep1 = ColumnTransformer(transformers=[\n",
    "    ('ohe',OneHotEncoder(sparse=False,drop='first',handle_unknown='ignore'),[1,4,5,6,7,8,9,10,11,12,13,14,15,20,21,22,23,24,26,27,28,29,30,31,32,34,38,39,40,41,42,52,54,56,57,59,62,63,64,71,72,73,77,78])\n",
    "],remainder='passthrough')\n",
    "\n",
    "Rstep2 = StandardScaler()\n",
    "Rstep3 = PCA(n_components=10)\n",
    "Rstep4 = Ridge(alpha=20)\n"
   ]
  },
  {
   "cell_type": "code",
   "execution_count": 246,
   "id": "ab28b4de",
   "metadata": {},
   "outputs": [],
   "source": [
    "# Building pipeline for Ridge Regression\n",
    "Rpipe = Pipeline([\n",
    "    ('Rstep1',Rstep1),\n",
    "    ('Rstep2',Rstep2),\n",
    "    ('Rstep3',Rstep3),\n",
    "    ('Rstep4',Rstep4)\n",
    "])"
   ]
  },
  {
   "cell_type": "code",
   "execution_count": 247,
   "id": "49791382",
   "metadata": {},
   "outputs": [
    {
     "name": "stdout",
     "output_type": "stream",
     "text": [
      "R2 score 0.8449978126659294\n",
      "mean absolute error 0.10785723654174546\n"
     ]
    },
    {
     "name": "stderr",
     "output_type": "stream",
     "text": [
      "C:\\Users\\birle\\anaconda3\\lib\\site-packages\\sklearn\\preprocessing\\_encoders.py:975: FutureWarning: `sparse` was renamed to `sparse_output` in version 1.2 and will be removed in 1.4. `sparse_output` is ignored unless you leave `sparse` to its default value.\n",
      "  warnings.warn(\n",
      "C:\\Users\\birle\\anaconda3\\lib\\site-packages\\sklearn\\preprocessing\\_encoders.py:228: UserWarning: Found unknown categories in columns [15, 29, 30] during transform. These unknown categories will be encoded as all zeros\n",
      "  warnings.warn(\n"
     ]
    }
   ],
   "source": [
    "# Fitting Ridge pipeline on train test data and making prediction\n",
    "Rpipe.fit(x_train,y_train)\n",
    "y_pred = Rpipe.predict(x_test)\n",
    "print('R2 score', r2_score(y_test,y_pred))\n",
    "print('mean absolute error', mean_absolute_error(y_test,y_pred))\n"
   ]
  },
  {
   "cell_type": "markdown",
   "id": "8ee348ed",
   "metadata": {},
   "source": [
    "MODEL 3 -- LASSO REGRESSION"
   ]
  },
  {
   "cell_type": "code",
   "execution_count": 249,
   "id": "e88875bb",
   "metadata": {},
   "outputs": [],
   "source": [
    "Lstep1 = ColumnTransformer(transformers=[\n",
    "    ('ohe',OneHotEncoder(sparse=False,drop='first',handle_unknown='ignore'),[1,4,5,6,7,8,9,10,11,12,13,14,15,20,21,22,23,24,26,27,28,29,30,31,32,34,38,39,40,41,42,52,54,56,57,59,62,63,64,71,72,73,77,78])\n",
    "],remainder='passthrough')\n",
    "\n",
    "Lstep2 = StandardScaler()\n",
    "Lstep3 = PCA(n_components=10)\n",
    "Lstep4 = Lasso(alpha=0.001)\n"
   ]
  },
  {
   "cell_type": "code",
   "execution_count": 250,
   "id": "d6f91097",
   "metadata": {},
   "outputs": [],
   "source": [
    "Lpipe = Pipeline([\n",
    "    ('Lstep1',Lstep1),\n",
    "    ('Lstep2',Lstep2),\n",
    "    ('Lstep3',Lstep3),\n",
    "    ('Lstep4',Lstep4)\n",
    "])"
   ]
  },
  {
   "cell_type": "code",
   "execution_count": 251,
   "id": "1a3a5f21",
   "metadata": {},
   "outputs": [
    {
     "name": "stdout",
     "output_type": "stream",
     "text": [
      "R2 score 0.8459209375583562\n",
      "mean absolute error 0.1074028183025324\n"
     ]
    },
    {
     "name": "stderr",
     "output_type": "stream",
     "text": [
      "C:\\Users\\birle\\anaconda3\\lib\\site-packages\\sklearn\\preprocessing\\_encoders.py:975: FutureWarning: `sparse` was renamed to `sparse_output` in version 1.2 and will be removed in 1.4. `sparse_output` is ignored unless you leave `sparse` to its default value.\n",
      "  warnings.warn(\n",
      "C:\\Users\\birle\\anaconda3\\lib\\site-packages\\sklearn\\preprocessing\\_encoders.py:228: UserWarning: Found unknown categories in columns [15, 29, 30] during transform. These unknown categories will be encoded as all zeros\n",
      "  warnings.warn(\n"
     ]
    }
   ],
   "source": [
    "Lpipe.fit(x_train,y_train)\n",
    "y_pred = Lpipe.predict(x_test)\n",
    "print('R2 score', r2_score(y_test,y_pred))\n",
    "print('mean absolute error', mean_absolute_error(y_test,y_pred))\n"
   ]
  },
  {
   "cell_type": "markdown",
   "id": "a983a553",
   "metadata": {},
   "source": [
    "MODEL 4 -- KNeighborsRegressor"
   ]
  },
  {
   "cell_type": "code",
   "execution_count": 253,
   "id": "bc6dfa34",
   "metadata": {},
   "outputs": [],
   "source": [
    "Kstep1 = ColumnTransformer(transformers=[\n",
    "    ('ohe',OneHotEncoder(sparse=False,drop='first',handle_unknown='ignore'),[1,4,5,6,7,8,9,10,11,12,13,14,15,20,21,22,23,24,26,27,28,29,30,31,32,34,38,39,40,41,42,52,54,56,57,59,62,63,64,71,72,73,77,78])\n",
    "],remainder='passthrough')\n",
    "\n",
    "Kstep2 = StandardScaler()\n",
    "Kstep3 = PCA(n_components=10)\n",
    "Kstep4 = KNeighborsRegressor(n_neighbors=10)\n"
   ]
  },
  {
   "cell_type": "code",
   "execution_count": 254,
   "id": "7a314c0e",
   "metadata": {},
   "outputs": [],
   "source": [
    "# Building pipeline for respective model\n",
    "Kpipe = Pipeline([\n",
    "    ('Kstep1',Kstep1),\n",
    "    ('Kstep2',Kstep2),\n",
    "    ('Kstep3',Kstep3),\n",
    "    ('Kstep4',Kstep4)\n",
    "])"
   ]
  },
  {
   "cell_type": "code",
   "execution_count": 255,
   "id": "84465da0",
   "metadata": {},
   "outputs": [
    {
     "name": "stdout",
     "output_type": "stream",
     "text": [
      "R2 score 0.8264371834463928\n",
      "mean absolute error 0.11340061934276871\n"
     ]
    },
    {
     "name": "stderr",
     "output_type": "stream",
     "text": [
      "C:\\Users\\birle\\anaconda3\\lib\\site-packages\\sklearn\\preprocessing\\_encoders.py:975: FutureWarning: `sparse` was renamed to `sparse_output` in version 1.2 and will be removed in 1.4. `sparse_output` is ignored unless you leave `sparse` to its default value.\n",
      "  warnings.warn(\n",
      "C:\\Users\\birle\\anaconda3\\lib\\site-packages\\sklearn\\preprocessing\\_encoders.py:228: UserWarning: Found unknown categories in columns [15, 29, 30] during transform. These unknown categories will be encoded as all zeros\n",
      "  warnings.warn(\n"
     ]
    }
   ],
   "source": [
    "# Fitting train test data on respective model and checking aaccuracy\n",
    "Kpipe.fit(x_train,y_train)\n",
    "y_pred = Kpipe.predict(x_test)\n",
    "print('R2 score', r2_score(y_test,y_pred))\n",
    "print('mean absolute error', mean_absolute_error(y_test,y_pred))\n"
   ]
  },
  {
   "cell_type": "markdown",
   "id": "43818f5a",
   "metadata": {},
   "source": [
    "MODEL 5 -- SUPPORT VECTOR REGRESSION (SVR)"
   ]
  },
  {
   "cell_type": "code",
   "execution_count": 257,
   "id": "9e4c6c0c",
   "metadata": {},
   "outputs": [],
   "source": [
    "Vstep1 = ColumnTransformer(transformers=[\n",
    "    ('ohe',OneHotEncoder(sparse=False,drop='first',handle_unknown='ignore'),[1,4,5,6,7,8,9,10,11,12,13,14,15,20,21,22,23,24,26,27,28,29,30,31,32,34,38,39,40,41,42,52,54,56,57,59,62,63,64,71,72,73,77,78])\n",
    "],remainder='passthrough')\n",
    "\n",
    "Vstep2 = StandardScaler()\n",
    "Vstep3 = PCA(n_components=10)\n",
    "Vstep4 = SVR(kernel='rbf',C=10000,epsilon=0.1)\n"
   ]
  },
  {
   "cell_type": "code",
   "execution_count": 258,
   "id": "673a3932",
   "metadata": {},
   "outputs": [],
   "source": [
    "Vpipe = Pipeline([\n",
    "    ('Vstep1',Vstep1),\n",
    "    ('Vstep2',Vstep2),\n",
    "    ('Vstep3',Vstep3),\n",
    "    ('Vstep4',Vstep4)\n",
    "])"
   ]
  },
  {
   "cell_type": "code",
   "execution_count": 259,
   "id": "8bae2820",
   "metadata": {},
   "outputs": [
    {
     "name": "stderr",
     "output_type": "stream",
     "text": [
      "C:\\Users\\birle\\anaconda3\\lib\\site-packages\\sklearn\\preprocessing\\_encoders.py:975: FutureWarning: `sparse` was renamed to `sparse_output` in version 1.2 and will be removed in 1.4. `sparse_output` is ignored unless you leave `sparse` to its default value.\n",
      "  warnings.warn(\n"
     ]
    },
    {
     "name": "stdout",
     "output_type": "stream",
     "text": [
      "R2 score 0.7795129280375955\n",
      "mean absolute error 0.1306865282402386\n"
     ]
    },
    {
     "name": "stderr",
     "output_type": "stream",
     "text": [
      "C:\\Users\\birle\\anaconda3\\lib\\site-packages\\sklearn\\preprocessing\\_encoders.py:228: UserWarning: Found unknown categories in columns [15, 29, 30] during transform. These unknown categories will be encoded as all zeros\n",
      "  warnings.warn(\n"
     ]
    }
   ],
   "source": [
    "Vpipe.fit(x_train,y_train)\n",
    "y_pred = Vpipe.predict(x_test)\n",
    "print('R2 score', r2_score(y_test,y_pred))\n",
    "print('mean absolute error', mean_absolute_error(y_test,y_pred))\n"
   ]
  },
  {
   "cell_type": "markdown",
   "id": "fd8b0a84",
   "metadata": {},
   "source": [
    "MODEL 6 -- RANDOM FOREST REGRESSOR"
   ]
  },
  {
   "cell_type": "code",
   "execution_count": 260,
   "id": "d608dcb6",
   "metadata": {},
   "outputs": [],
   "source": [
    "RFstep1 = ColumnTransformer(transformers=[\n",
    "    ('ohe',OneHotEncoder(sparse=False,drop='first',handle_unknown='ignore'),[1,4,5,6,7,8,9,10,11,12,13,14,15,20,21,22,23,24,26,27,28,29,30,31,32,34,38,39,40,41,42,52,54,56,57,59,62,63,64,71,72,73,77,78])\n",
    "],remainder='passthrough')\n",
    "\n",
    "RFstep2 = StandardScaler()\n",
    "RFstep3 = PCA(n_components=10)\n",
    "RFstep4 = RandomForestRegressor(n_estimators=200,random_state=5,max_samples=0.8,max_features=0.90,max_depth=20)\n"
   ]
  },
  {
   "cell_type": "code",
   "execution_count": 261,
   "id": "20400328",
   "metadata": {},
   "outputs": [],
   "source": [
    "RFpipe = Pipeline([\n",
    "    ('RFstep1',step1),\n",
    "    ('RFstep2',step2),\n",
    "    ('RFstep3',step3),\n",
    "    ('RFstep4',step4)\n",
    "])"
   ]
  },
  {
   "cell_type": "code",
   "execution_count": 262,
   "id": "95069242",
   "metadata": {},
   "outputs": [
    {
     "name": "stderr",
     "output_type": "stream",
     "text": [
      "C:\\Users\\birle\\anaconda3\\lib\\site-packages\\sklearn\\preprocessing\\_encoders.py:975: FutureWarning: `sparse` was renamed to `sparse_output` in version 1.2 and will be removed in 1.4. `sparse_output` is ignored unless you leave `sparse` to its default value.\n",
      "  warnings.warn(\n"
     ]
    },
    {
     "name": "stdout",
     "output_type": "stream",
     "text": [
      "R2 score 0.8392079582607319\n",
      "mean absolute error 0.10832090268515276\n"
     ]
    },
    {
     "name": "stderr",
     "output_type": "stream",
     "text": [
      "C:\\Users\\birle\\anaconda3\\lib\\site-packages\\sklearn\\preprocessing\\_encoders.py:228: UserWarning: Found unknown categories in columns [15, 29, 30] during transform. These unknown categories will be encoded as all zeros\n",
      "  warnings.warn(\n"
     ]
    }
   ],
   "source": [
    "RFpipe.fit(x_train,y_train)\n",
    "y_pred = RFpipe.predict(x_test)\n",
    "print('R2 score', r2_score(y_test,y_pred))\n",
    "print('mean absolute error', mean_absolute_error(y_test,y_pred))\n"
   ]
  },
  {
   "cell_type": "markdown",
   "id": "3e2f5bb5",
   "metadata": {},
   "source": [
    "MODEL 7 -- ADA BOOST REGRESSOR"
   ]
  },
  {
   "cell_type": "code",
   "execution_count": 263,
   "id": "6431eff6",
   "metadata": {},
   "outputs": [],
   "source": [
    "ABstep1 = ColumnTransformer(transformers=[\n",
    "    ('ohe',OneHotEncoder(sparse=False,drop='first',handle_unknown='ignore'),[1,4,5,6,7,8,9,10,11,12,13,14,15,20,21,22,23,24,26,27,28,29,30,31,32,34,38,39,40,41,42,52,54,56,57,59,62,63,64,71,72,73,77,78])\n",
    "],remainder='passthrough')\n",
    "\n",
    "ABstep2 = StandardScaler()\n",
    "ABstep3 = PCA(n_components=10)\n",
    "ABstep4 = AdaBoostRegressor(n_estimators=200,learning_rate=0.8)\n"
   ]
  },
  {
   "cell_type": "code",
   "execution_count": 264,
   "id": "d740b5a2",
   "metadata": {},
   "outputs": [],
   "source": [
    "ABpipe = Pipeline([\n",
    "    ('ABstep1',ABstep1),\n",
    "    ('ABstep2',ABstep2),\n",
    "    ('ABstep3',ABstep3),\n",
    "    ('ABstep4',ABstep4)\n",
    "])"
   ]
  },
  {
   "cell_type": "code",
   "execution_count": 265,
   "id": "0c70da67",
   "metadata": {},
   "outputs": [
    {
     "name": "stderr",
     "output_type": "stream",
     "text": [
      "C:\\Users\\birle\\anaconda3\\lib\\site-packages\\sklearn\\preprocessing\\_encoders.py:975: FutureWarning: `sparse` was renamed to `sparse_output` in version 1.2 and will be removed in 1.4. `sparse_output` is ignored unless you leave `sparse` to its default value.\n",
      "  warnings.warn(\n"
     ]
    },
    {
     "name": "stdout",
     "output_type": "stream",
     "text": [
      "R2 score 0.7508292479310859\n",
      "mean absolute error 0.15399045935461375\n"
     ]
    },
    {
     "name": "stderr",
     "output_type": "stream",
     "text": [
      "C:\\Users\\birle\\anaconda3\\lib\\site-packages\\sklearn\\preprocessing\\_encoders.py:228: UserWarning: Found unknown categories in columns [15, 29, 30] during transform. These unknown categories will be encoded as all zeros\n",
      "  warnings.warn(\n"
     ]
    }
   ],
   "source": [
    "ABpipe.fit(x_train,y_train)\n",
    "y_pred = ABpipe.predict(x_test)\n",
    "print('R2 score', r2_score(y_test,y_pred))\n",
    "print('mean absolute error', mean_absolute_error(y_test,y_pred))\n"
   ]
  },
  {
   "cell_type": "markdown",
   "id": "994a1f2a",
   "metadata": {},
   "source": [
    "MODEL 8 -- GRADIENT BOOSTING REGRESSOR"
   ]
  },
  {
   "cell_type": "code",
   "execution_count": 266,
   "id": "247785cc",
   "metadata": {},
   "outputs": [],
   "source": [
    "GBstep1 = ColumnTransformer(transformers=[\n",
    "    ('ohe',OneHotEncoder(sparse=False,drop='first',handle_unknown='ignore'),[1,4,5,6,7,8,9,10,11,12,13,14,15,20,21,22,23,24,26,27,28,29,30,31,32,34,38,39,40,41,42,52,54,56,57,59,62,63,64,71,72,73,77,78])\n",
    "],remainder='passthrough')\n",
    "\n",
    "GBstep2 = StandardScaler()\n",
    "GBstep3 = PCA(n_components=10)\n",
    "GBstep4 = GradientBoostingRegressor(n_estimators=500)\n"
   ]
  },
  {
   "cell_type": "code",
   "execution_count": 267,
   "id": "3e793713",
   "metadata": {},
   "outputs": [],
   "source": [
    "GBpipe = Pipeline([\n",
    "    ('GBstep1',GBstep1),\n",
    "    ('GBstep2',GBstep2),\n",
    "    ('GBstep3',GBstep3),\n",
    "    ('GBstep4',GBstep4)\n",
    "])"
   ]
  },
  {
   "cell_type": "code",
   "execution_count": 268,
   "id": "5a8b4b6c",
   "metadata": {},
   "outputs": [
    {
     "name": "stderr",
     "output_type": "stream",
     "text": [
      "C:\\Users\\birle\\anaconda3\\lib\\site-packages\\sklearn\\preprocessing\\_encoders.py:975: FutureWarning: `sparse` was renamed to `sparse_output` in version 1.2 and will be removed in 1.4. `sparse_output` is ignored unless you leave `sparse` to its default value.\n",
      "  warnings.warn(\n"
     ]
    },
    {
     "name": "stdout",
     "output_type": "stream",
     "text": [
      "R2 score 0.8428987837313275\n",
      "mean absolute error 0.1050803827909642\n"
     ]
    },
    {
     "name": "stderr",
     "output_type": "stream",
     "text": [
      "C:\\Users\\birle\\anaconda3\\lib\\site-packages\\sklearn\\preprocessing\\_encoders.py:228: UserWarning: Found unknown categories in columns [15, 29, 30] during transform. These unknown categories will be encoded as all zeros\n",
      "  warnings.warn(\n"
     ]
    }
   ],
   "source": [
    "GBpipe.fit(x_train,y_train)\n",
    "y_pred = GBpipe.predict(x_test)\n",
    "print('R2 score', r2_score(y_test,y_pred))\n",
    "print('mean absolute error', mean_absolute_error(y_test,y_pred))\n"
   ]
  },
  {
   "cell_type": "markdown",
   "id": "cde9f43b",
   "metadata": {},
   "source": [
    "# CONCLUSION -- LINEAR REGRESSION MODEL IS THE MOST ACCURATE MODEL BASED ON OUR ANALYSIS ON THE GIVEN DATASET\n",
    "\n",
    "ACCURACY SCORE = 84%\n",
    "MEAN ABSOLUTE ERROR = 0.10"
   ]
  },
  {
   "cell_type": "markdown",
   "id": "885268f8",
   "metadata": {},
   "source": [
    "# TASK 6 -- WEBSITE BUILDING AND DEPLOYMENT"
   ]
  },
  {
   "cell_type": "code",
   "execution_count": 228,
   "id": "3130fa4f",
   "metadata": {},
   "outputs": [],
   "source": [
    "import pickle"
   ]
  },
  {
   "cell_type": "code",
   "execution_count": 269,
   "id": "7f1893ce",
   "metadata": {},
   "outputs": [],
   "source": [
    "pickle.dump(df,open('df.pkl','wb'))\n",
    "pickle.dump(df,open('lrpipe.pkl','wb'))"
   ]
  },
  {
   "cell_type": "code",
   "execution_count": null,
   "id": "51fba63e",
   "metadata": {},
   "outputs": [],
   "source": []
  }
 ],
 "metadata": {
  "kernelspec": {
   "display_name": "Python 3 (ipykernel)",
   "language": "python",
   "name": "python3"
  },
  "language_info": {
   "codemirror_mode": {
    "name": "ipython",
    "version": 3
   },
   "file_extension": ".py",
   "mimetype": "text/x-python",
   "name": "python",
   "nbconvert_exporter": "python",
   "pygments_lexer": "ipython3",
   "version": "3.10.9"
  }
 },
 "nbformat": 4,
 "nbformat_minor": 5
}
